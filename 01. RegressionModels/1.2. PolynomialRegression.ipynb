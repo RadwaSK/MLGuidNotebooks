{
 "cells": [
  {
   "cell_type": "markdown",
   "metadata": {
    "id": "8CTNRVK-8t6x"
   },
   "source": [
    "# Polynomial Regression Notebook\n",
    "-------------------------------------------\n",
    "#### Dataset is poly-data.csv\n",
    "This dataset contains 10 values for different job positions, their level, and their salaries.\n",
    "We want to build a model that predicts the salary given the level."
   ]
  },
  {
   "cell_type": "markdown",
   "metadata": {
    "id": "ILzU-oTa9IQp"
   },
   "source": [
    "## Part One: From scratch\n",
    "In the first part of the notebook, we will implement Polynomial Regression **from scratch** using **Gradient Descent** algorithm which we took in session ML1."
   ]
  },
  {
   "cell_type": "code",
   "execution_count": 2,
   "metadata": {
    "id": "VPQPCbCFuJ1f"
   },
   "outputs": [],
   "source": [
    "# import needed libraries\n",
    "import numpy as np\n",
    "import pandas as pd\n",
    "import matplotlib.pyplot as plt"
   ]
  },
  {
   "cell_type": "code",
   "execution_count": 3,
   "metadata": {
    "colab": {
     "base_uri": "https://localhost:8080/",
     "height": 363
    },
    "id": "5pEkBjiYubkX",
    "outputId": "b624b83c-64d1-4155-ff08-a8ca6f84fc86"
   },
   "outputs": [
    {
     "data": {
      "text/html": [
       "<div>\n",
       "<style scoped>\n",
       "    .dataframe tbody tr th:only-of-type {\n",
       "        vertical-align: middle;\n",
       "    }\n",
       "\n",
       "    .dataframe tbody tr th {\n",
       "        vertical-align: top;\n",
       "    }\n",
       "\n",
       "    .dataframe thead th {\n",
       "        text-align: right;\n",
       "    }\n",
       "</style>\n",
       "<table border=\"1\" class=\"dataframe\">\n",
       "  <thead>\n",
       "    <tr style=\"text-align: right;\">\n",
       "      <th></th>\n",
       "      <th>Position</th>\n",
       "      <th>Level</th>\n",
       "      <th>Salary</th>\n",
       "    </tr>\n",
       "  </thead>\n",
       "  <tbody>\n",
       "    <tr>\n",
       "      <th>0</th>\n",
       "      <td>Business Analyst</td>\n",
       "      <td>1</td>\n",
       "      <td>45000</td>\n",
       "    </tr>\n",
       "    <tr>\n",
       "      <th>1</th>\n",
       "      <td>Junior Consultant</td>\n",
       "      <td>2</td>\n",
       "      <td>50000</td>\n",
       "    </tr>\n",
       "    <tr>\n",
       "      <th>2</th>\n",
       "      <td>Senior Consultant</td>\n",
       "      <td>3</td>\n",
       "      <td>60000</td>\n",
       "    </tr>\n",
       "    <tr>\n",
       "      <th>3</th>\n",
       "      <td>Manager</td>\n",
       "      <td>4</td>\n",
       "      <td>80000</td>\n",
       "    </tr>\n",
       "    <tr>\n",
       "      <th>4</th>\n",
       "      <td>Country Manager</td>\n",
       "      <td>5</td>\n",
       "      <td>110000</td>\n",
       "    </tr>\n",
       "    <tr>\n",
       "      <th>5</th>\n",
       "      <td>Region Manager</td>\n",
       "      <td>6</td>\n",
       "      <td>150000</td>\n",
       "    </tr>\n",
       "    <tr>\n",
       "      <th>6</th>\n",
       "      <td>Partner</td>\n",
       "      <td>7</td>\n",
       "      <td>200000</td>\n",
       "    </tr>\n",
       "    <tr>\n",
       "      <th>7</th>\n",
       "      <td>Senior Partner</td>\n",
       "      <td>8</td>\n",
       "      <td>300000</td>\n",
       "    </tr>\n",
       "    <tr>\n",
       "      <th>8</th>\n",
       "      <td>C-level</td>\n",
       "      <td>9</td>\n",
       "      <td>500000</td>\n",
       "    </tr>\n",
       "    <tr>\n",
       "      <th>9</th>\n",
       "      <td>CEO</td>\n",
       "      <td>10</td>\n",
       "      <td>1000000</td>\n",
       "    </tr>\n",
       "  </tbody>\n",
       "</table>\n",
       "</div>"
      ],
      "text/plain": [
       "            Position  Level   Salary\n",
       "0   Business Analyst      1    45000\n",
       "1  Junior Consultant      2    50000\n",
       "2  Senior Consultant      3    60000\n",
       "3            Manager      4    80000\n",
       "4    Country Manager      5   110000\n",
       "5     Region Manager      6   150000\n",
       "6            Partner      7   200000\n",
       "7     Senior Partner      8   300000\n",
       "8            C-level      9   500000\n",
       "9                CEO     10  1000000"
      ]
     },
     "execution_count": 3,
     "metadata": {},
     "output_type": "execute_result"
    }
   ],
   "source": [
    "# read dataset\n",
    "data = pd.read_csv('Data/poly-data.csv')\n",
    "data"
   ]
  },
  {
   "cell_type": "code",
   "execution_count": 4,
   "metadata": {
    "colab": {
     "base_uri": "https://localhost:8080/"
    },
    "id": "eyh2Ei6guk0U",
    "outputId": "b9abed4e-dc46-40af-8bb2-7022f70fa61a"
   },
   "outputs": [
    {
     "name": "stdout",
     "output_type": "stream",
     "text": [
      "X is:\n",
      " 0     1\n",
      "1     2\n",
      "2     3\n",
      "3     4\n",
      "4     5\n",
      "5     6\n",
      "6     7\n",
      "7     8\n",
      "8     9\n",
      "9    10\n",
      "Name: Level, dtype: int64 \n",
      "\n",
      "\n",
      "Y is:\n",
      " 0      45000\n",
      "1      50000\n",
      "2      60000\n",
      "3      80000\n",
      "4     110000\n",
      "5     150000\n",
      "6     200000\n",
      "7     300000\n",
      "8     500000\n",
      "9    1000000\n",
      "Name: Salary, dtype: int64\n"
     ]
    }
   ],
   "source": [
    "# As shown, X, which is the level number, is at column 1\n",
    "X = data.iloc[:,1]\n",
    "# And Y, which is the salary, is at column 2\n",
    "Y = data.iloc[:,2]\n",
    "\n",
    "print('X is:\\n', X,'\\n\\n')\n",
    "print('Y is:\\n', Y)"
   ]
  },
  {
   "cell_type": "code",
   "execution_count": 5,
   "metadata": {
    "colab": {
     "base_uri": "https://localhost:8080/",
     "height": 276
    },
    "id": "lmUMY4Hxu8Z1",
    "outputId": "b8d8cf8b-680c-4289-d55a-d62f1e601a27"
   },
   "outputs": [
    {
     "data": {
      "image/png": "[encoded data removed]",
      "text/plain": [
       "<Figure size 432x288 with 1 Axes>"
      ]
     },
     "metadata": {
      "needs_background": "light"
     },
     "output_type": "display_data"
    }
   ],
   "source": [
    "plt.scatter(X, Y)\n",
    "plt.show()"
   ]
  },
  {
   "cell_type": "markdown",
   "metadata": {
    "id": "SurUjCmqDbEf"
   },
   "source": [
    "We will show a linear model on the data first to show how it would be such a bad fit for the data, and hence we need to move to a higher degree."
   ]
  },
  {
   "cell_type": "code",
   "execution_count": 6,
   "metadata": {
    "id": "RwMJsVYru0Iy"
   },
   "outputs": [],
   "source": [
    "from sklearn.linear_model import LinearRegression"
   ]
  },
  {
   "cell_type": "code",
   "execution_count": 7,
   "metadata": {
    "colab": {
     "base_uri": "https://localhost:8080/"
    },
    "id": "5SQIfk2GvZ04",
    "outputId": "e6542a48-461a-4a95-96d0-8ca57c5036a9"
   },
   "outputs": [
    {
     "name": "stdout",
     "output_type": "stream",
     "text": [
      "(10, 1)\n"
     ]
    }
   ],
   "source": [
    "X_reshaped = X.to_numpy().reshape(len(X), 1)\n",
    "print(X_reshaped.shape)\n",
    "lin_reg_model = LinearRegression()\n",
    "lin_reg_model = lin_reg_model.fit(X_reshaped, Y)\n",
    "Ypred = lin_reg_model.predict(X_reshaped)"
   ]
  },
  {
   "cell_type": "code",
   "execution_count": 8,
   "metadata": {
    "colab": {
     "base_uri": "https://localhost:8080/",
     "height": 276
    },
    "id": "xvEzUi8_Nppn",
    "outputId": "8bb7edc5-16a6-4ce7-a50d-4ea7b4981d4c"
   },
   "outputs": [
    {
     "data": {
      "image/png": "[encoded data removed]",
      "text/plain": [
       "<Figure size 432x288 with 1 Axes>"
      ]
     },
     "metadata": {
      "needs_background": "light"
     },
     "output_type": "display_data"
    }
   ],
   "source": [
    "# graphing\n",
    "plt.scatter(X, Y)\n",
    "plt.plot(X, Ypred)\n",
    "plt.show()"
   ]
  },
  {
   "cell_type": "markdown",
   "metadata": {
    "id": "ICY-Ofq8N8S4"
   },
   "source": [
    "We can obviously see that the linear model don't fit the data at all."
   ]
  },
  {
   "cell_type": "markdown",
   "metadata": {
    "id": "Vy-1Vtu-OBHi"
   },
   "source": [
    "Now, we will build the polynomial model using the same Gradient Descent we used in the Linear Regression Notebook.\n",
    "\n",
    "The only difference here, we now have the model as Y = a0 + a1 * X + a2 * X^2.\n",
    "\n",
    "Hence, we have 3 paramters we need to evaluate; a0, a1 and a2.\n",
    "And hence, we will calculate 3 gradients, D0, D1 and D2."
   ]
  },
  {
   "cell_type": "code",
   "execution_count": 10,
   "metadata": {
    "id": "wMCCkofTvqr9"
   },
   "outputs": [],
   "source": [
    "# Y = a0 + a1 * X + a2 * X^2\n",
    "a0, a1, a2 = 0, 0, 0\n",
    "lr = 0.0001\n",
    "epochs = 1000\n",
    "n = float(len(X))\n",
    "for i in range(epochs):\n",
    "    Ypred = a0 + a1 * X + a2 * X**2\n",
    "    # MSE = 1/n * summation((y-(a0 + a1 * X + a2 * X^2))^2)\n",
    "    D0 = (-2/n) * np.sum(Y - Ypred)\n",
    "    D1 = (-2/n) * np.sum(X * (Y - Ypred))\n",
    "    D2 = (-2/n) * np.sum(X**2 * (Y - Ypred))\n",
    "    a0 = a0 - lr * D0\n",
    "    a1 = a1 - lr * D1\n",
    "    a2 = a2 - lr * D2"
   ]
  },
  {
   "cell_type": "code",
   "execution_count": 11,
   "metadata": {
    "colab": {
     "base_uri": "https://localhost:8080/"
    },
    "id": "lMoqb76C3OE4",
    "outputId": "4c13c646-1311-4fa7-ea1b-6a7b9112694c"
   },
   "outputs": [
    {
     "name": "stdout",
     "output_type": "stream",
     "text": [
      "Function is Y = 9043.68 * X^2 + -15976.77 * X + -2954.75\n"
     ]
    }
   ],
   "source": [
    "print('Function is Y = %.2f * X^2 + %.2f * X + %.2f' % (a2, a1, a0))"
   ]
  },
  {
   "cell_type": "code",
   "execution_count": 12,
   "metadata": {
    "colab": {
     "base_uri": "https://localhost:8080/",
     "height": 276
    },
    "id": "nCPLoasZOuOC",
    "outputId": "879bf01a-8c2a-4da2-9eba-639bb9f5abd0"
   },
   "outputs": [
    {
     "data": {
      "image/png": "[encoded data removed]",
      "text/plain": [
       "<Figure size 432x288 with 1 Axes>"
      ]
     },
     "metadata": {
      "needs_background": "light"
     },
     "output_type": "display_data"
    }
   ],
   "source": [
    "plt.scatter(X, Y)\n",
    "plt.plot(X, Ypred, color='red')\n",
    "plt.show()"
   ]
  },
  {
   "cell_type": "markdown",
   "metadata": {
    "id": "beTJqW_1Onvz"
   },
   "source": [
    "## Part Two: Using Numpy"
   ]
  },
  {
   "cell_type": "markdown",
   "metadata": {
    "id": "MVXZ1S_jOrC3"
   },
   "source": [
    "In this part, we will use [polyfit](https://numpy.org/doc/stable/reference/generated/numpy.polyfit.html) and [poly1d](https://numpy.org/doc/stable/reference/generated/numpy.poly1d.html) functions from Numpy.\n",
    "\n",
    "Polyfit takes input data, and the degree of the polynomial model you want to build, and returns the parameters of the polynomial function. In this example, it will be a0, a1 and a2 values.\n",
    "\n",
    "Poly1d takes input the paramters of the polynomial, and builds the polynomial model accordingly."
   ]
  },
  {
   "cell_type": "code",
   "execution_count": 13,
   "metadata": {
    "colab": {
     "base_uri": "https://localhost:8080/"
    },
    "id": "gsKsfIT817PO",
    "outputId": "1b34631b-79b9-43d1-dbec-b22932242eb7"
   },
   "outputs": [
    {
     "name": "stdout",
     "output_type": "stream",
     "text": [
      "Function is:\n",
      "\n",
      "            2\n",
      "1.943e+04 x - 1.329e+05 x + 2.322e+05 \n",
      "\n"
     ]
    }
   ],
   "source": [
    "params = np.polyfit(X, Y, 2)\n",
    "# model is y = params[0] * X^2 + params[1] * X + params[2]\n",
    "numpy_model = np.poly1d(params)\n",
    "print('Function is:\\n\\n', np.poly1d(numpy_model), '\\n')"
   ]
  },
  {
   "cell_type": "markdown",
   "metadata": {
    "id": "pNLsZU0JP1FL"
   },
   "source": [
    "[linspace](https://numpy.org/doc/stable/reference/generated/numpy.linspace.html) function in Numpy returns an array of size *num* starting from *start* to *stop*.\n",
    "\n",
    "We will use it to make an array of values for X axis to graph the Numpy model."
   ]
  },
  {
   "cell_type": "code",
   "execution_count": 14,
   "metadata": {
    "colab": {
     "base_uri": "https://localhost:8080/",
     "height": 276
    },
    "id": "z_wvjo5u3u1D",
    "outputId": "75cda4d5-b08a-4e77-81d5-3bb3b630a348"
   },
   "outputs": [
    {
     "data": {
      "image/png": "[encoded data removed]",
      "text/plain": [
       "<Figure size 432x288 with 1 Axes>"
      ]
     },
     "metadata": {
      "needs_background": "light"
     },
     "output_type": "display_data"
    }
   ],
   "source": [
    "X_range = np.linspace(min(X), max(X), 100)\n",
    "Ypred = numpy_model(X_range)\n",
    "plt.scatter(X, Y)\n",
    "plt.plot(X_range, Ypred, color='red')\n",
    "plt.show()"
   ]
  },
  {
   "cell_type": "markdown",
   "metadata": {
    "id": "ig4oMqgdQeee"
   },
   "source": [
    "## Part Three: Using Sklearn"
   ]
  },
  {
   "cell_type": "markdown",
   "metadata": {
    "id": "WsDJn4rFQg9L"
   },
   "source": [
    "We will use [LinearRegression](https://scikit-learn.org/stable/modules/generated/sklearn.linear_model.LinearRegression.html#sklearn.linear_model.LinearRegression.get_params) and [PolynomialFeatures](scikit-learn.org/stable/modules/generated/sklearn.preprocessing.PolynomialFeatures.html).\n",
    "\n",
    "PolynomialFeatures takes the degree of the polynomial model you want to build and returns this model.\n",
    "\n",
    "The model is then fit on the X data only to return a matrix of shape (len(X), degree+1).\n",
    "\n",
    "Each row i in this matrix = X[i]^0, X[i]^1, ..., X[i]^degree\n",
    "\n",
    "..\n",
    "\n",
    "In our case here for a 2nd degree, the matrix will have three columns.\n",
    "\n",
    "First column X^0 is always 1.\n",
    "\n",
    "Second column X^1 is same as X.\n",
    "\n",
    "Third column is X^2.\n",
    "\n",
    "This matrix is then used as input to LinearRegression.fit function, so that instead of building a linear model on all data, it builds a linear model between each two values of X. Given enough data, the final curve or function is smooth-enough and accurate enough as the polynomial model."
   ]
  },
  {
   "cell_type": "code",
   "execution_count": 15,
   "metadata": {
    "id": "AyYS3Qow3KnP"
   },
   "outputs": [],
   "source": [
    "from sklearn.preprocessing import PolynomialFeatures\n",
    "from sklearn.linear_model import LinearRegression"
   ]
  },
  {
   "cell_type": "code",
   "execution_count": 16,
   "metadata": {
    "colab": {
     "base_uri": "https://localhost:8080/",
     "height": 201
    },
    "id": "j5Q9SdtG7YvM",
    "outputId": "c08260a5-a3fc-4ada-823a-35abe6705057"
   },
   "outputs": [
    {
     "name": "stdout",
     "output_type": "stream",
     "text": [
      "[[  1.   1.   1.]\n",
      " [  1.   2.   4.]\n",
      " [  1.   3.   9.]\n",
      " [  1.   4.  16.]\n",
      " [  1.   5.  25.]\n",
      " [  1.   6.  36.]\n",
      " [  1.   7.  49.]\n",
      " [  1.   8.  64.]\n",
      " [  1.   9.  81.]\n",
      " [  1.  10. 100.]]\n"
     ]
    }
   ],
   "source": [
    "poly_reg_features = PolynomialFeatures(degree=2)\n",
    "X_poly = poly_reg_features.fit_transform(X_reshaped)\n",
    "print(X_poly)"
   ]
  },
  {
   "cell_type": "code",
   "execution_count": 17,
   "metadata": {
    "id": "giiwvoJrR4Ob"
   },
   "outputs": [],
   "source": [
    "pol_reg_model = LinearRegression()\n",
    "# notice we are fitting it on poly X and not X\n",
    "pol_reg_model.fit(X_poly, Y)\n",
    "Ypred = pol_reg_model.predict(X_poly)"
   ]
  },
  {
   "cell_type": "code",
   "execution_count": 18,
   "metadata": {
    "colab": {
     "base_uri": "https://localhost:8080/",
     "height": 276
    },
    "id": "OY-3XGwnJ8f9",
    "outputId": "fc23877a-1305-483d-ad5f-3ff931a132a7"
   },
   "outputs": [
    {
     "data": {
      "image/png": "[encoded data removed]",
      "text/plain": [
       "<Figure size 432x288 with 1 Axes>"
      ]
     },
     "metadata": {
      "needs_background": "light"
     },
     "output_type": "display_data"
    }
   ],
   "source": [
    "plt.scatter(X, Y)\n",
    "plt.plot(X, Ypred, color='red')\n",
    "plt.show()"
   ]
  }
 ],
 "metadata": {
  "colab": {
   "collapsed_sections": [],
   "name": "PolynomialRegressionSol.ipynb",
   "provenance": []
  },
  "kernelspec": {
   "display_name": "Python 3 (ipykernel)",
   "language": "python",
   "name": "python3"
  },
  "language_info": {
   "codemirror_mode": {
    "name": "ipython",
    "version": 3
   },
   "file_extension": ".py",
   "mimetype": "text/x-python",
   "name": "python",
   "nbconvert_exporter": "python",
   "pygments_lexer": "ipython3",
   "version": "3.9.7"
  }
 },
 "nbformat": 4,
 "nbformat_minor": 1
}
