{
 "cells": [
  {
   "cell_type": "markdown",
   "id": "cb001924",
   "metadata": {},
   "source": [
    "# Naive Bayes Classifier Notebook\n",
    "-----\n",
    "This notebook will cover using Bayes Classifier from scratch & using sklearn.\n",
    "\n",
    "We will use Social Network Ads Dataset in this notebook as well."
   ]
  },
  {
   "cell_type": "code",
   "execution_count": 83,
   "id": "d0fd0002",
   "metadata": {},
   "outputs": [],
   "source": [
    "import pandas as pd\n",
    "import numpy as np\n",
    "from sklearn.naive_bayes import GaussianNB as NB\n",
    "from sklearn.naive_bayes import BernoulliNB as BNB\n",
    "from sklearn.model_selection import train_test_split\n",
    "from sklearn.preprocessing import StandardScaler\n",
    "import matplotlib.pyplot as plt\n",
    "from matplotlib.colors import ListedColormap"
   ]
  },
  {
   "cell_type": "markdown",
   "id": "17d75a7c",
   "metadata": {},
   "source": [
    "### 1. Reading Dataset"
   ]
  },
  {
   "cell_type": "code",
   "execution_count": 24,
   "id": "7f5814a4",
   "metadata": {},
   "outputs": [
    {
     "data": {
      "text/html": [
       "<div>\n",
       "<style scoped>\n",
       "    .dataframe tbody tr th:only-of-type {\n",
       "        vertical-align: middle;\n",
       "    }\n",
       "\n",
       "    .dataframe tbody tr th {\n",
       "        vertical-align: top;\n",
       "    }\n",
       "\n",
       "    .dataframe thead th {\n",
       "        text-align: right;\n",
       "    }\n",
       "</style>\n",
       "<table border=\"1\" class=\"dataframe\">\n",
       "  <thead>\n",
       "    <tr style=\"text-align: right;\">\n",
       "      <th></th>\n",
       "      <th>User ID</th>\n",
       "      <th>Gender</th>\n",
       "      <th>Age</th>\n",
       "      <th>EstimatedSalary</th>\n",
       "      <th>Purchased</th>\n",
       "    </tr>\n",
       "  </thead>\n",
       "  <tbody>\n",
       "    <tr>\n",
       "      <th>0</th>\n",
       "      <td>15624510</td>\n",
       "      <td>Male</td>\n",
       "      <td>19</td>\n",
       "      <td>19000</td>\n",
       "      <td>0</td>\n",
       "    </tr>\n",
       "    <tr>\n",
       "      <th>1</th>\n",
       "      <td>15810944</td>\n",
       "      <td>Male</td>\n",
       "      <td>35</td>\n",
       "      <td>20000</td>\n",
       "      <td>0</td>\n",
       "    </tr>\n",
       "    <tr>\n",
       "      <th>2</th>\n",
       "      <td>15668575</td>\n",
       "      <td>Female</td>\n",
       "      <td>26</td>\n",
       "      <td>43000</td>\n",
       "      <td>0</td>\n",
       "    </tr>\n",
       "    <tr>\n",
       "      <th>3</th>\n",
       "      <td>15603246</td>\n",
       "      <td>Female</td>\n",
       "      <td>27</td>\n",
       "      <td>57000</td>\n",
       "      <td>0</td>\n",
       "    </tr>\n",
       "    <tr>\n",
       "      <th>4</th>\n",
       "      <td>15804002</td>\n",
       "      <td>Male</td>\n",
       "      <td>19</td>\n",
       "      <td>76000</td>\n",
       "      <td>0</td>\n",
       "    </tr>\n",
       "    <tr>\n",
       "      <th>...</th>\n",
       "      <td>...</td>\n",
       "      <td>...</td>\n",
       "      <td>...</td>\n",
       "      <td>...</td>\n",
       "      <td>...</td>\n",
       "    </tr>\n",
       "    <tr>\n",
       "      <th>395</th>\n",
       "      <td>15691863</td>\n",
       "      <td>Female</td>\n",
       "      <td>46</td>\n",
       "      <td>41000</td>\n",
       "      <td>1</td>\n",
       "    </tr>\n",
       "    <tr>\n",
       "      <th>396</th>\n",
       "      <td>15706071</td>\n",
       "      <td>Male</td>\n",
       "      <td>51</td>\n",
       "      <td>23000</td>\n",
       "      <td>1</td>\n",
       "    </tr>\n",
       "    <tr>\n",
       "      <th>397</th>\n",
       "      <td>15654296</td>\n",
       "      <td>Female</td>\n",
       "      <td>50</td>\n",
       "      <td>20000</td>\n",
       "      <td>1</td>\n",
       "    </tr>\n",
       "    <tr>\n",
       "      <th>398</th>\n",
       "      <td>15755018</td>\n",
       "      <td>Male</td>\n",
       "      <td>36</td>\n",
       "      <td>33000</td>\n",
       "      <td>0</td>\n",
       "    </tr>\n",
       "    <tr>\n",
       "      <th>399</th>\n",
       "      <td>15594041</td>\n",
       "      <td>Female</td>\n",
       "      <td>49</td>\n",
       "      <td>36000</td>\n",
       "      <td>1</td>\n",
       "    </tr>\n",
       "  </tbody>\n",
       "</table>\n",
       "<p>400 rows × 5 columns</p>\n",
       "</div>"
      ],
      "text/plain": [
       "      User ID  Gender  Age  EstimatedSalary  Purchased\n",
       "0    15624510    Male   19            19000          0\n",
       "1    15810944    Male   35            20000          0\n",
       "2    15668575  Female   26            43000          0\n",
       "3    15603246  Female   27            57000          0\n",
       "4    15804002    Male   19            76000          0\n",
       "..        ...     ...  ...              ...        ...\n",
       "395  15691863  Female   46            41000          1\n",
       "396  15706071    Male   51            23000          1\n",
       "397  15654296  Female   50            20000          1\n",
       "398  15755018    Male   36            33000          0\n",
       "399  15594041  Female   49            36000          1\n",
       "\n",
       "[400 rows x 5 columns]"
      ]
     },
     "execution_count": 24,
     "metadata": {},
     "output_type": "execute_result"
    }
   ],
   "source": [
    "df = pd.read_csv('Social_Network_Ads.csv')\n",
    "df"
   ]
  },
  {
   "cell_type": "markdown",
   "id": "aea6ceb2",
   "metadata": {},
   "source": [
    "## Part One: From Scratch"
   ]
  },
  {
   "cell_type": "markdown",
   "id": "97e2133b",
   "metadata": {},
   "source": [
    "We will use only the gender feature as the X in this part. For ease of explaination in the from scratch part of the notebook."
   ]
  },
  {
   "cell_type": "markdown",
   "id": "4cacfcb9",
   "metadata": {},
   "source": [
    "### 2. Splitting Data"
   ]
  },
  {
   "cell_type": "code",
   "execution_count": 25,
   "id": "3f4d3aaa",
   "metadata": {},
   "outputs": [
    {
     "data": {
      "text/html": [
       "<div>\n",
       "<style scoped>\n",
       "    .dataframe tbody tr th:only-of-type {\n",
       "        vertical-align: middle;\n",
       "    }\n",
       "\n",
       "    .dataframe tbody tr th {\n",
       "        vertical-align: top;\n",
       "    }\n",
       "\n",
       "    .dataframe thead th {\n",
       "        text-align: right;\n",
       "    }\n",
       "</style>\n",
       "<table border=\"1\" class=\"dataframe\">\n",
       "  <thead>\n",
       "    <tr style=\"text-align: right;\">\n",
       "      <th></th>\n",
       "      <th>Gender</th>\n",
       "      <th>Purchased</th>\n",
       "    </tr>\n",
       "  </thead>\n",
       "  <tbody>\n",
       "    <tr>\n",
       "      <th>0</th>\n",
       "      <td>Male</td>\n",
       "      <td>0</td>\n",
       "    </tr>\n",
       "    <tr>\n",
       "      <th>1</th>\n",
       "      <td>Male</td>\n",
       "      <td>0</td>\n",
       "    </tr>\n",
       "    <tr>\n",
       "      <th>2</th>\n",
       "      <td>Female</td>\n",
       "      <td>0</td>\n",
       "    </tr>\n",
       "    <tr>\n",
       "      <th>3</th>\n",
       "      <td>Female</td>\n",
       "      <td>0</td>\n",
       "    </tr>\n",
       "    <tr>\n",
       "      <th>4</th>\n",
       "      <td>Male</td>\n",
       "      <td>0</td>\n",
       "    </tr>\n",
       "    <tr>\n",
       "      <th>...</th>\n",
       "      <td>...</td>\n",
       "      <td>...</td>\n",
       "    </tr>\n",
       "    <tr>\n",
       "      <th>395</th>\n",
       "      <td>Female</td>\n",
       "      <td>1</td>\n",
       "    </tr>\n",
       "    <tr>\n",
       "      <th>396</th>\n",
       "      <td>Male</td>\n",
       "      <td>1</td>\n",
       "    </tr>\n",
       "    <tr>\n",
       "      <th>397</th>\n",
       "      <td>Female</td>\n",
       "      <td>1</td>\n",
       "    </tr>\n",
       "    <tr>\n",
       "      <th>398</th>\n",
       "      <td>Male</td>\n",
       "      <td>0</td>\n",
       "    </tr>\n",
       "    <tr>\n",
       "      <th>399</th>\n",
       "      <td>Female</td>\n",
       "      <td>1</td>\n",
       "    </tr>\n",
       "  </tbody>\n",
       "</table>\n",
       "<p>400 rows × 2 columns</p>\n",
       "</div>"
      ],
      "text/plain": [
       "     Gender  Purchased\n",
       "0      Male          0\n",
       "1      Male          0\n",
       "2    Female          0\n",
       "3    Female          0\n",
       "4      Male          0\n",
       "..      ...        ...\n",
       "395  Female          1\n",
       "396    Male          1\n",
       "397  Female          1\n",
       "398    Male          0\n",
       "399  Female          1\n",
       "\n",
       "[400 rows x 2 columns]"
      ]
     },
     "execution_count": 25,
     "metadata": {},
     "output_type": "execute_result"
    }
   ],
   "source": [
    "cut_df = df[['Gender', 'Purchased']]\n",
    "\n",
    "cut_df"
   ]
  },
  {
   "cell_type": "code",
   "execution_count": 62,
   "id": "395e510f",
   "metadata": {},
   "outputs": [],
   "source": [
    "train_df, test_df = train_test_split(cut_df, test_size=0.2)"
   ]
  },
  {
   "cell_type": "code",
   "execution_count": 63,
   "id": "981a0729",
   "metadata": {},
   "outputs": [
    {
     "name": "stdout",
     "output_type": "stream",
     "text": [
      "(320,) (320,)\n",
      "(80,) (80,)\n"
     ]
    }
   ],
   "source": [
    "x_train, y_train = train_df['Gender'], train_df['Purchased']\n",
    "print(x_train.shape, y_train.shape)\n",
    "\n",
    "x_test, y_test = test_df['Gender'], test_df['Purchased']\n",
    "y_test = y_test.to_numpy()\n",
    "print(x_test.shape, y_test.shape)"
   ]
  },
  {
   "cell_type": "markdown",
   "id": "465ec197",
   "metadata": {},
   "source": [
    "First, we will calculate the probability of evidence."
   ]
  },
  {
   "cell_type": "code",
   "execution_count": 64,
   "id": "933e6674",
   "metadata": {},
   "outputs": [
    {
     "name": "stdout",
     "output_type": "stream",
     "text": [
      "P(Male) = 0.484375\n",
      "P(Female) = 0.515625\n"
     ]
    }
   ],
   "source": [
    "p_male = np.sum(x_train == 'Male') / len(x_train)\n",
    "print(\"P(Male) =\", p_male)\n",
    "\n",
    "p_female = np.sum(x_train == 'Female') / len(x_train)\n",
    "print(\"P(Female) =\", p_female)"
   ]
  },
  {
   "cell_type": "markdown",
   "id": "6c3ff6bb",
   "metadata": {},
   "source": [
    "Then, we will calculate the prior probability."
   ]
  },
  {
   "cell_type": "code",
   "execution_count": 65,
   "id": "2b078bda",
   "metadata": {},
   "outputs": [
    {
     "name": "stdout",
     "output_type": "stream",
     "text": [
      "P(Purchased) = 0.38125\n",
      "P(NotPurchased) = 0.61875\n"
     ]
    }
   ],
   "source": [
    "p_purchased = np.sum(y_train == 1) / len(y_train)\n",
    "print(\"P(Purchased) =\", p_purchased)\n",
    "\n",
    "p_not_purchased = np.sum(y_train == 0) / len(y_train)\n",
    "print(\"P(NotPurchased) =\", p_not_purchased)"
   ]
  },
  {
   "cell_type": "markdown",
   "id": "b207ca01",
   "metadata": {},
   "source": [
    "Now, we will calculate the likelihood probability of purchased or not, in case of having an instance X = Male, and once in case of having instance X = Female."
   ]
  },
  {
   "cell_type": "code",
   "execution_count": 66,
   "id": "e373cba0",
   "metadata": {},
   "outputs": [
    {
     "name": "stdout",
     "output_type": "stream",
     "text": [
      "P(Male | Purchased) = 0.169\n",
      "\n",
      "--------------------\n",
      "\n",
      "P(Male | NotPurchased) = 0.315625\n"
     ]
    }
   ],
   "source": [
    "# In case of Male:\n",
    "male_given_purchased = train_df.loc[( (train_df['Gender'] == 'Male') & (train_df['Purchased'] == 1))]\n",
    "# print(male_given_purchased.head(5), '\\n\\n')\n",
    "\n",
    "p_male_given_purchased = len(male_given_purchased) / len(train_df) # P(X=male| Y=purchased)\n",
    "print(\"P(Male | Purchased) = %.3f\" % p_male_given_purchased)\n",
    "\n",
    "p_purchased_given_male = p_male_given_purchased * p_purchased / p_male\n",
    "# print(\"P(Purchased | Male) = %.3f\" % p_purchased_given_male)\n",
    "\n",
    "print('\\n--------------------\\n')\n",
    "\n",
    "male_given_not_purchased = train_df.loc[((train_df['Gender'] == 'Male') & (train_df['Purchased'] == 0))]\n",
    "# print(male_given_not_purchased.head(5), '\\n\\n')\n",
    "\n",
    "p_male_given_not_purchased = len(male_given_not_purchased) / len(train_df)\n",
    "print(\"P(Male | NotPurchased) =\", p_male_given_not_purchased)\n",
    "\n",
    "p_not_purchased_given_male = p_male_given_not_purchased * p_not_purchased / p_male\n",
    "# print(\"P(NotPurchased | Male) = %.3f\" % p_not_purchased_given_male)\n"
   ]
  },
  {
   "cell_type": "markdown",
   "id": "c97ac877",
   "metadata": {},
   "source": [
    "This means, that for a new instance where Gender is Male, we would predict that they would not purchase this product."
   ]
  },
  {
   "cell_type": "code",
   "execution_count": 67,
   "id": "6140fbf7",
   "metadata": {},
   "outputs": [
    {
     "name": "stdout",
     "output_type": "stream",
     "text": [
      "P(Female | Purchased) = 0.2125\n",
      "P(Purchased | Female) = 0.1571212121212121\n",
      "\n",
      "--------------------\n",
      "\n",
      "P(Female | NotPurchased) = 0.303125\n",
      "P(NotPurchased | Female) = 0.36375\n"
     ]
    }
   ],
   "source": [
    "# In case of Female:\n",
    "female_given_purchased = train_df.loc[((train_df['Gender'] == 'Female') & (train_df['Purchased'] == 1))]\n",
    "# print(female_given_purchased.head(5), '\\n\\n')\n",
    "\n",
    "p_female_given_purchased = len(female_given_purchased) / len(train_df)\n",
    "print(\"P(Female | Purchased) =\", p_female_given_purchased)\n",
    "\n",
    "p_purchased_given_female = p_female_given_purchased * p_purchased / p_female\n",
    "print(\"P(Purchased | Female) =\", p_purchased_given_female)\n",
    "\n",
    "print('\\n--------------------\\n')\n",
    "\n",
    "female_given_not_purchased = train_df.loc[((train_df['Gender'] == 'Female') & (train_df['Purchased'] == 0))]\n",
    "# print(female_given_not_purchased.head(5), '\\n\\n')\n",
    "\n",
    "p_female_given_not_purchased = len(female_given_not_purchased) / len(train_df)\n",
    "print(\"P(Female | NotPurchased) =\", p_female_given_not_purchased)\n",
    "\n",
    "p_not_purchased_given_female = p_female_given_not_purchased * p_not_purchased / p_female\n",
    "print(\"P(NotPurchased | Female) =\", p_not_purchased_given_female)"
   ]
  },
  {
   "cell_type": "markdown",
   "id": "fcf70d4e",
   "metadata": {},
   "source": [
    "This means that in case of female, we will also predict that they would not purchase the product."
   ]
  },
  {
   "cell_type": "markdown",
   "id": "8f8db0eb",
   "metadata": {},
   "source": [
    "----\n",
    "We should have a generalized function that returns the prediction right away, so we can use it for each instance in the testing dataset\n",
    "---"
   ]
  },
  {
   "cell_type": "code",
   "execution_count": 68,
   "id": "87f9e6a4",
   "metadata": {},
   "outputs": [
    {
     "name": "stdout",
     "output_type": "stream",
     "text": [
      "{'Male': 0.484375, 'Female': 0.515625}\n",
      "{'Purchased': 0.38125, 'NotPurchased': 0.61875}\n"
     ]
    }
   ],
   "source": [
    "prob_evidence = {'Male': p_male, 'Female': p_female}\n",
    "print(prob_evidence)\n",
    "\n",
    "prob_prior = {'Purchased': p_purchased, 'NotPurchased': p_not_purchased}\n",
    "print(prob_prior)\n",
    "\n",
    "def predict(gender): # 'Male' or 'Female'\n",
    "    gender_given_purchased = train_df.loc[((train_df['Gender'] == gender) & (train_df['Purchased'] == 1))]\n",
    "    p_gender_given_purchased = len(gender_given_purchased) / len(train_df)\n",
    "    p_purchased_given_gender = p_gender_given_purchased * prob_prior['Purchased'] / prob_evidence[gender]\n",
    "    \n",
    "    gender_given_not_purchased = train_df.loc[((train_df['Gender'] == gender) & (train_df['Purchased'] == 0))]\n",
    "    p_gender_given_not_purchased = len(gender_given_not_purchased) / len(train_df)\n",
    "    p_not_purchased_given_gender = p_gender_given_not_purchased * prob_prior['NotPurchased'] / prob_evidence[gender]\n",
    "    \n",
    "    if p_purchased_given_gender >= p_not_purchased_given_gender:\n",
    "        return 1\n",
    "    else:\n",
    "        return 0"
   ]
  },
  {
   "cell_type": "code",
   "execution_count": 73,
   "id": "06b541f8",
   "metadata": {},
   "outputs": [
    {
     "name": "stdout",
     "output_type": "stream",
     "text": [
      "Accuracy = 73.75%\n"
     ]
    }
   ],
   "source": [
    "count = 0\n",
    "\n",
    "for i, x in enumerate(x_test):\n",
    "    y_pred = predict(x)\n",
    "    if y_pred == y_test[i]:\n",
    "        count += 1\n",
    "\n",
    "accuracy = float(count) / len(x_test)\n",
    "print(\"Accuracy = %.2f%%\" % (accuracy * 100))"
   ]
  },
  {
   "cell_type": "markdown",
   "id": "1050ac27",
   "metadata": {},
   "source": [
    "Notice that this model is very weak currently, because we are only considering the gender feature, which is rather not realistic or efficient."
   ]
  },
  {
   "cell_type": "markdown",
   "id": "df641fce",
   "metadata": {},
   "source": [
    "## Part Two: Using Sklearn\n",
    "----\n",
    "We will use [Gaussian Naive Bayes Classifier](https://scikit-learn.org/stable/modules/generated/sklearn.naive_bayes.GaussianNB.html) in this part."
   ]
  },
  {
   "cell_type": "code",
   "execution_count": 74,
   "id": "6c1d110c",
   "metadata": {},
   "outputs": [
    {
     "name": "stdout",
     "output_type": "stream",
     "text": [
      "(320, 2) (80, 2)\n"
     ]
    }
   ],
   "source": [
    "X = df[['Age', 'EstimatedSalary']]\n",
    "y = df['Purchased']\n",
    "\n",
    "X_train, X_test, y_train, y_test = train_test_split(X, y, test_size=0.2)\n",
    "\n",
    "print(X_train.shape, X_test.shape)"
   ]
  },
  {
   "cell_type": "code",
   "execution_count": 75,
   "id": "9ddebad8",
   "metadata": {},
   "outputs": [
    {
     "data": {
      "text/plain": [
       "array([[ 0.21566379, -0.25855088],\n",
       "       [ 0.02153605, -0.10899144],\n",
       "       [-1.72561361,  0.39951065],\n",
       "       [-1.33735813,  0.60889386],\n",
       "       [-1.24029426,  0.63880575]])"
      ]
     },
     "execution_count": 75,
     "metadata": {},
     "output_type": "execute_result"
    }
   ],
   "source": [
    "sc_X = StandardScaler()\n",
    "X_train = sc_X.fit_transform(X_train)\n",
    "X_test = sc_X.transform(X_test)\n",
    "X_test[0:5]"
   ]
  },
  {
   "cell_type": "code",
   "execution_count": 77,
   "id": "0668e7ff",
   "metadata": {},
   "outputs": [],
   "source": [
    "model = NB()\n",
    "model = model.fit(X_train, y_train)"
   ]
  },
  {
   "cell_type": "code",
   "execution_count": 78,
   "id": "f6f03d75",
   "metadata": {},
   "outputs": [
    {
     "name": "stdout",
     "output_type": "stream",
     "text": [
      "Accuracy = 91.25%\n"
     ]
    }
   ],
   "source": [
    "accuracy = model.score(X_test, y_test)\n",
    "print(\"Accuracy = %.2f%%\" % (accuracy * 100))"
   ]
  },
  {
   "cell_type": "code",
   "execution_count": 79,
   "id": "ee41a984",
   "metadata": {},
   "outputs": [
    {
     "data": {
      "image/png": "[encoded data removed]",
      "text/plain": [
       "<Figure size 432x288 with 1 Axes>"
      ]
     },
     "metadata": {
      "needs_background": "light"
     },
     "output_type": "display_data"
    }
   ],
   "source": [
    "X_set, y_set = X_train, y_train\n",
    "\n",
    "X1,X2 = np.meshgrid(np.arange(start =X_set[:, 0].min() -1, stop=X_set[:, 0].max()+1, step = 0.01),\n",
    "                    np.arange(start =X_set[:, 1].min() -1, stop=X_set[:, 1].max()+1, step = 0.01))\n",
    "\n",
    "plt.contourf(X1,X2, model.predict(np.array([X1.ravel(), X2.ravel()]).T).reshape(X1.shape),alpha=0.75, \n",
    "             cmap = ListedColormap(('pink','cyan')))\n",
    "\n",
    "plt.xlim((X1.min(),X1.max()))\n",
    "plt.ylim((X2.min(),X2.max()))\n",
    "\n",
    "for i,j in enumerate(np.unique(y_set)):\n",
    "     plt.scatter(X_set[y_set==j,0], X_set[y_set==j,1], color=ListedColormap(('red','blue'))(i) ,label= j)\n",
    "\n",
    "plt.title('Gaussian Naive Bayes Classifier (Train Set)')\n",
    "plt.xlabel('Age')\n",
    "plt.ylabel('Estimated Salary')\n",
    "plt.legend()\n",
    "plt.show()"
   ]
  },
  {
   "cell_type": "code",
   "execution_count": 81,
   "id": "df86f376",
   "metadata": {},
   "outputs": [
    {
     "data": {
      "image/png": "[encoded data removed]",
      "text/plain": [
       "<Figure size 432x288 with 1 Axes>"
      ]
     },
     "metadata": {
      "needs_background": "light"
     },
     "output_type": "display_data"
    }
   ],
   "source": [
    "X_set, y_set = X_test, y_test\n",
    "\n",
    "X1,X2 = np.meshgrid(np.arange(start =X_set[:, 0].min() -1, stop=X_set[:, 0].max()+1, step = 0.01),\n",
    "                    np.arange(start =X_set[:, 1].min() -1, stop=X_set[:, 1].max()+1, step = 0.01))\n",
    "\n",
    "plt.contourf(X1,X2, model.predict(np.array([X1.ravel(), X2.ravel()]).T).reshape(X1.shape),alpha=0.75, \n",
    "             cmap = ListedColormap(('pink','cyan')))\n",
    "\n",
    "plt.xlim((X1.min(),X1.max()))\n",
    "plt.ylim((X2.min(),X2.max()))\n",
    "\n",
    "for i,j in enumerate(np.unique(y_set)):\n",
    "     plt.scatter(X_set[y_set==j,0], X_set[y_set==j,1], color=ListedColormap(('red','blue'))(i) ,label= j)\n",
    "\n",
    "plt.title('Gaussian Naive Bayes Classifier (Test Set)')\n",
    "plt.xlabel('Age')\n",
    "plt.ylabel('Estimated Salary')\n",
    "plt.legend()\n",
    "plt.show()"
   ]
  },
  {
   "cell_type": "markdown",
   "id": "6a777776",
   "metadata": {},
   "source": [
    "Let's test using sklearn model with Gender only"
   ]
  },
  {
   "cell_type": "code",
   "execution_count": 88,
   "id": "6e7b3419",
   "metadata": {},
   "outputs": [
    {
     "name": "stdout",
     "output_type": "stream",
     "text": [
      "(320, 1) (80, 1)\n"
     ]
    }
   ],
   "source": [
    "X = df['Gender'].replace('Female', 1).replace('Male', 0)\n",
    "y = df['Purchased']\n",
    "\n",
    "x_train, x_test, y_train, y_test = train_test_split(X, y, test_size=0.2)\n",
    "\n",
    "x_train = np.expand_dims(x_train, 1)\n",
    "x_test = np.expand_dims(x_test, 1)\n",
    "print(x_train.shape, x_test.shape)"
   ]
  },
  {
   "cell_type": "code",
   "execution_count": 89,
   "id": "637754ef",
   "metadata": {},
   "outputs": [],
   "source": [
    "model = NB()\n",
    "model = model.fit(x_train, y_train)"
   ]
  },
  {
   "cell_type": "code",
   "execution_count": 90,
   "id": "52dba95a",
   "metadata": {},
   "outputs": [
    {
     "name": "stdout",
     "output_type": "stream",
     "text": [
      "Accuracy = 66.25%\n"
     ]
    }
   ],
   "source": [
    "accuracy = model.score(x_test, y_test)\n",
    "print(\"Accuracy = %.2f%%\" % (accuracy * 100))"
   ]
  },
  {
   "cell_type": "code",
   "execution_count": 92,
   "id": "c282e239",
   "metadata": {},
   "outputs": [
    {
     "name": "stdout",
     "output_type": "stream",
     "text": [
      "0\n"
     ]
    }
   ],
   "source": [
    "y_pred = model.predict(x_test)\n",
    "print(np.sum(y_pred))"
   ]
  },
  {
   "cell_type": "markdown",
   "id": "c046249c",
   "metadata": {},
   "source": [
    "Which means that the sklearn model TOO predicted all cases to not have purchased the item"
   ]
  },
  {
   "cell_type": "markdown",
   "id": "e62340e3",
   "metadata": {},
   "source": [
    "### Using Sklearn model on 3 features instead of 2"
   ]
  },
  {
   "cell_type": "code",
   "execution_count": 94,
   "id": "8bf326c4",
   "metadata": {},
   "outputs": [
    {
     "name": "stdout",
     "output_type": "stream",
     "text": [
      "(320, 3) (80, 3)\n"
     ]
    },
    {
     "name": "stderr",
     "output_type": "stream",
     "text": [
      "C:\\Users\\RADWAK~1\\AppData\\Local\\Temp/ipykernel_5380/3413130581.py:2: SettingWithCopyWarning: \n",
      "A value is trying to be set on a copy of a slice from a DataFrame.\n",
      "Try using .loc[row_indexer,col_indexer] = value instead\n",
      "\n",
      "See the caveats in the documentation: https://pandas.pydata.org/pandas-docs/stable/user_guide/indexing.html#returning-a-view-versus-a-copy\n",
      "  X['Gender'] = X['Gender'].replace('Female', 1).replace('Male', 0)\n"
     ]
    }
   ],
   "source": [
    "X = df[['Age', 'EstimatedSalary', 'Gender']]\n",
    "X['Gender'] = X['Gender'].replace('Female', 1).replace('Male', 0)\n",
    "y = df['Purchased']\n",
    "\n",
    "X_train, X_test, y_train, y_test = train_test_split(X, y, test_size=0.2)\n",
    "\n",
    "print(X_train.shape, X_test.shape)"
   ]
  },
  {
   "cell_type": "code",
   "execution_count": 95,
   "id": "0b0f852f",
   "metadata": {},
   "outputs": [
    {
     "name": "stdout",
     "output_type": "stream",
     "text": [
      "0.8625\n"
     ]
    }
   ],
   "source": [
    "model = NB()\n",
    "model = model.fit(X_train, y_train)\n",
    "acc = model.score(X_test, y_test)\n",
    "print(acc)"
   ]
  }
 ],
 "metadata": {
  "kernelspec": {
   "display_name": "dev",
   "language": "python",
   "name": "dev"
  },
  "language_info": {
   "codemirror_mode": {
    "name": "ipython",
    "version": 3
   },
   "file_extension": ".py",
   "mimetype": "text/x-python",
   "name": "python",
   "nbconvert_exporter": "python",
   "pygments_lexer": "ipython3",
   "version": "3.9.7"
  }
 },
 "nbformat": 4,
 "nbformat_minor": 5
}
