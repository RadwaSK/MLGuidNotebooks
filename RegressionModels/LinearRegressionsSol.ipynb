{
  "nbformat": 4,
  "nbformat_minor": 0,
  "metadata": {
    "colab": {
      "name": "LinearRegressionsSol.ipynb",
      "provenance": [],
      "collapsed_sections": []
    },
    "kernelspec": {
      "name": "python3",
      "display_name": "Python 3"
    },
    "language_info": {
      "name": "python"
    }
  },
  "cells": [
    {
      "cell_type": "markdown",
      "source": [
        "# Linear Regression Notebook\n",
        "-------------------------------------------\n",
        "#### Dataset is LR-data.csv\n",
        "This dataset contains values for X and Y that has a +ve strong correlation, which makes it good practice for Linear Regression."
      ],
      "metadata": {
        "id": "Ia6HZiDY1TiA"
      }
    },
    {
      "cell_type": "markdown",
      "source": [
        "## Part One: From scratch\n",
        "In the first part of the notebook, we will implement Linear Regression **from scratch** using **Gradient Descent** algorithm which we took in session ML1."
      ],
      "metadata": {
        "id": "Dj7FnL526CH0"
      }
    },
    {
      "cell_type": "code",
      "execution_count": null,
      "metadata": {
        "id": "YotpMNxGmsu0"
      },
      "outputs": [],
      "source": [
        "# importing needed libraries for code from scratch\n",
        "import numpy as np\n",
        "import pandas as pd\n",
        "import matplotlib.pyplot as plt"
      ]
    },
    {
      "cell_type": "code",
      "source": [
        "# reading the dataset\n",
        "data = pd.read_csv('Data/LR-data.csv', header=None)\n",
        "data"
      ],
      "metadata": {
        "colab": {
          "base_uri": "https://localhost:8080/",
          "height": 424
        },
        "id": "tcY4juLbm-nH",
        "outputId": "cd7f057b-5c6f-44d6-dd2b-ccc3bdc6e7f5"
      },
      "execution_count": null,
      "outputs": [
        {
          "output_type": "execute_result",
          "data": {
            "text/html": [
              "\n",
              "  <div id=\"df-3f3959da-9197-4d88-aad5-fab3eeaad13f\">\n",
              "    <div class=\"colab-df-container\">\n",
              "      <div>\n",
              "<style scoped>\n",
              "    .dataframe tbody tr th:only-of-type {\n",
              "        vertical-align: middle;\n",
              "    }\n",
              "\n",
              "    .dataframe tbody tr th {\n",
              "        vertical-align: top;\n",
              "    }\n",
              "\n",
              "    .dataframe thead th {\n",
              "        text-align: right;\n",
              "    }\n",
              "</style>\n",
              "<table border=\"1\" class=\"dataframe\">\n",
              "  <thead>\n",
              "    <tr style=\"text-align: right;\">\n",
              "      <th></th>\n",
              "      <th>0</th>\n",
              "      <th>1</th>\n",
              "    </tr>\n",
              "  </thead>\n",
              "  <tbody>\n",
              "    <tr>\n",
              "      <th>0</th>\n",
              "      <td>32.502345</td>\n",
              "      <td>31.707006</td>\n",
              "    </tr>\n",
              "    <tr>\n",
              "      <th>1</th>\n",
              "      <td>53.426804</td>\n",
              "      <td>68.777596</td>\n",
              "    </tr>\n",
              "    <tr>\n",
              "      <th>2</th>\n",
              "      <td>61.530358</td>\n",
              "      <td>62.562382</td>\n",
              "    </tr>\n",
              "    <tr>\n",
              "      <th>3</th>\n",
              "      <td>47.475640</td>\n",
              "      <td>71.546632</td>\n",
              "    </tr>\n",
              "    <tr>\n",
              "      <th>4</th>\n",
              "      <td>59.813208</td>\n",
              "      <td>87.230925</td>\n",
              "    </tr>\n",
              "    <tr>\n",
              "      <th>...</th>\n",
              "      <td>...</td>\n",
              "      <td>...</td>\n",
              "    </tr>\n",
              "    <tr>\n",
              "      <th>95</th>\n",
              "      <td>50.030174</td>\n",
              "      <td>81.536991</td>\n",
              "    </tr>\n",
              "    <tr>\n",
              "      <th>96</th>\n",
              "      <td>49.239765</td>\n",
              "      <td>72.111832</td>\n",
              "    </tr>\n",
              "    <tr>\n",
              "      <th>97</th>\n",
              "      <td>50.039576</td>\n",
              "      <td>85.232007</td>\n",
              "    </tr>\n",
              "    <tr>\n",
              "      <th>98</th>\n",
              "      <td>48.149859</td>\n",
              "      <td>66.224958</td>\n",
              "    </tr>\n",
              "    <tr>\n",
              "      <th>99</th>\n",
              "      <td>25.128485</td>\n",
              "      <td>53.454394</td>\n",
              "    </tr>\n",
              "  </tbody>\n",
              "</table>\n",
              "<p>100 rows × 2 columns</p>\n",
              "</div>\n",
              "      <button class=\"colab-df-convert\" onclick=\"convertToInteractive('df-3f3959da-9197-4d88-aad5-fab3eeaad13f')\"\n",
              "              title=\"Convert this dataframe to an interactive table.\"\n",
              "              style=\"display:none;\">\n",
              "        \n",
              "  <svg xmlns=\"http://www.w3.org/2000/svg\" height=\"24px\"viewBox=\"0 0 24 24\"\n",
              "       width=\"24px\">\n",
              "    <path d=\"M0 0h24v24H0V0z\" fill=\"none\"/>\n",
              "    <path d=\"M18.56 5.44l.94 2.06.94-2.06 2.06-.94-2.06-.94-.94-2.06-.94 2.06-2.06.94zm-11 1L8.5 8.5l.94-2.06 2.06-.94-2.06-.94L8.5 2.5l-.94 2.06-2.06.94zm10 10l.94 2.06.94-2.06 2.06-.94-2.06-.94-.94-2.06-.94 2.06-2.06.94z\"/><path d=\"M17.41 7.96l-1.37-1.37c-.4-.4-.92-.59-1.43-.59-.52 0-1.04.2-1.43.59L10.3 9.45l-7.72 7.72c-.78.78-.78 2.05 0 2.83L4 21.41c.39.39.9.59 1.41.59.51 0 1.02-.2 1.41-.59l7.78-7.78 2.81-2.81c.8-.78.8-2.07 0-2.86zM5.41 20L4 18.59l7.72-7.72 1.47 1.35L5.41 20z\"/>\n",
              "  </svg>\n",
              "      </button>\n",
              "      \n",
              "  <style>\n",
              "    .colab-df-container {\n",
              "      display:flex;\n",
              "      flex-wrap:wrap;\n",
              "      gap: 12px;\n",
              "    }\n",
              "\n",
              "    .colab-df-convert {\n",
              "      background-color: #E8F0FE;\n",
              "      border: none;\n",
              "      border-radius: 50%;\n",
              "      cursor: pointer;\n",
              "      display: none;\n",
              "      fill: #1967D2;\n",
              "      height: 32px;\n",
              "      padding: 0 0 0 0;\n",
              "      width: 32px;\n",
              "    }\n",
              "\n",
              "    .colab-df-convert:hover {\n",
              "      background-color: #E2EBFA;\n",
              "      box-shadow: 0px 1px 2px rgba(60, 64, 67, 0.3), 0px 1px 3px 1px rgba(60, 64, 67, 0.15);\n",
              "      fill: #174EA6;\n",
              "    }\n",
              "\n",
              "    [theme=dark] .colab-df-convert {\n",
              "      background-color: #3B4455;\n",
              "      fill: #D2E3FC;\n",
              "    }\n",
              "\n",
              "    [theme=dark] .colab-df-convert:hover {\n",
              "      background-color: #434B5C;\n",
              "      box-shadow: 0px 1px 3px 1px rgba(0, 0, 0, 0.15);\n",
              "      filter: drop-shadow(0px 1px 2px rgba(0, 0, 0, 0.3));\n",
              "      fill: #FFFFFF;\n",
              "    }\n",
              "  </style>\n",
              "\n",
              "      <script>\n",
              "        const buttonEl =\n",
              "          document.querySelector('#df-3f3959da-9197-4d88-aad5-fab3eeaad13f button.colab-df-convert');\n",
              "        buttonEl.style.display =\n",
              "          google.colab.kernel.accessAllowed ? 'block' : 'none';\n",
              "\n",
              "        async function convertToInteractive(key) {\n",
              "          const element = document.querySelector('#df-3f3959da-9197-4d88-aad5-fab3eeaad13f');\n",
              "          const dataTable =\n",
              "            await google.colab.kernel.invokeFunction('convertToInteractive',\n",
              "                                                     [key], {});\n",
              "          if (!dataTable) return;\n",
              "\n",
              "          const docLinkHtml = 'Like what you see? Visit the ' +\n",
              "            '<a target=\"_blank\" href=https://colab.research.google.com/notebooks/data_table.ipynb>data table notebook</a>'\n",
              "            + ' to learn more about interactive tables.';\n",
              "          element.innerHTML = '';\n",
              "          dataTable['output_type'] = 'display_data';\n",
              "          await google.colab.output.renderOutput(dataTable, element);\n",
              "          const docLink = document.createElement('div');\n",
              "          docLink.innerHTML = docLinkHtml;\n",
              "          element.appendChild(docLink);\n",
              "        }\n",
              "      </script>\n",
              "    </div>\n",
              "  </div>\n",
              "  "
            ],
            "text/plain": [
              "            0          1\n",
              "0   32.502345  31.707006\n",
              "1   53.426804  68.777596\n",
              "2   61.530358  62.562382\n",
              "3   47.475640  71.546632\n",
              "4   59.813208  87.230925\n",
              "..        ...        ...\n",
              "95  50.030174  81.536991\n",
              "96  49.239765  72.111832\n",
              "97  50.039576  85.232007\n",
              "98  48.149859  66.224958\n",
              "99  25.128485  53.454394\n",
              "\n",
              "[100 rows x 2 columns]"
            ]
          },
          "metadata": {},
          "execution_count": 3
        }
      ]
    },
    {
      "cell_type": "code",
      "source": [
        "# notice we used iloc function because there is no name for the columns in the data\n",
        "# so basically, I am telling it to choose elements at location of the indices given to iloc\n",
        "# X data are ALL ROWS in Col 0\n",
        "X = data.iloc[:,0]\n",
        "# Y data are ALL ROWS in Col 1\n",
        "Y = data.iloc[:,1]\n",
        "\n",
        "print('X sample data:\\n', X[0:10],'\\n\\n')\n",
        "print('Y sample data:\\n', Y[0:10])"
      ],
      "metadata": {
        "colab": {
          "base_uri": "https://localhost:8080/"
        },
        "id": "6_W6y7jp4GqW",
        "outputId": "afb7844e-bbfa-4d3b-c3b2-9127a4696ec1"
      },
      "execution_count": null,
      "outputs": [
        {
          "output_type": "stream",
          "name": "stdout",
          "text": [
            "X sample data:\n",
            " 0    32.502345\n",
            "1    53.426804\n",
            "2    61.530358\n",
            "3    47.475640\n",
            "4    59.813208\n",
            "5    55.142188\n",
            "6    52.211797\n",
            "7    39.299567\n",
            "8    48.105042\n",
            "9    52.550014\n",
            "Name: 0, dtype: float64 \n",
            "\n",
            "\n",
            "Y sample data:\n",
            " 0    31.707006\n",
            "1    68.777596\n",
            "2    62.562382\n",
            "3    71.546632\n",
            "4    87.230925\n",
            "5    78.211518\n",
            "6    79.641973\n",
            "7    59.171489\n",
            "8    75.331242\n",
            "9    71.300880\n",
            "Name: 1, dtype: float64\n"
          ]
        }
      ]
    },
    {
      "cell_type": "code",
      "source": [
        "# show X, Y data on X-Y coordinates\n",
        "plt.scatter(X,Y)\n",
        "plt.show()"
      ],
      "metadata": {
        "colab": {
          "base_uri": "https://localhost:8080/",
          "height": 265
        },
        "id": "U8c0ChcWnl-1",
        "outputId": "ad575a07-1d3d-446f-958b-92a15c1afdb7"
      },
      "execution_count": null,
      "outputs": [
        {
          "output_type": "display_data",
          "data": {
            "image/png": "[encoded data removed]",
            "text/plain": [
              "<Figure size 432x288 with 1 Axes>"
            ]
          },
          "metadata": {
            "needs_background": "light"
          }
        }
      ]
    },
    {
      "cell_type": "markdown",
      "source": [
        "R value is called Pearson's correlation Coefficient.\n",
        "It represents the correlation between multiple variables.\n",
        "You can search its statistical function on Google using the full name.\n",
        "\n",
        "Numpy.corrcoef function returns a matrix of size NxN, where N is the number of the variables given to the function."
      ],
      "metadata": {
        "id": "sveboZhs4cS5"
      }
    },
    {
      "cell_type": "code",
      "source": [
        "# calculate the pearson's correlation coefficient between X and Y\n",
        "rvals = np.corrcoef(X, Y)\n",
        "rvals"
      ],
      "metadata": {
        "colab": {
          "base_uri": "https://localhost:8080/"
        },
        "id": "GvLovSDK6inI",
        "outputId": "56eb97e6-96da-4a21-9c82-52427a039be1"
      },
      "execution_count": null,
      "outputs": [
        {
          "output_type": "execute_result",
          "data": {
            "text/plain": [
              "array([[1.       , 0.7737285],\n",
              "       [0.7737285, 1.       ]])"
            ]
          },
          "metadata": {},
          "execution_count": 6
        }
      ]
    },
    {
      "cell_type": "code",
      "source": [
        "print('Correlation between X and X =', rvals[0,0]) # Obviously 1\n",
        "\n",
        "# it only makes sense that correlation between X and Y is as between Y and X\n",
        "print('Correlation between X and Y =%.2f' % rvals[0,1])\n",
        "print('Correlation between Y and X =%.2f' % rvals[1,0])\n",
        "\n",
        "print('Correlation between Y and Y =', rvals[1,1]) # Obviously 1\n",
        "# So, diagonal values in the matrix are always equal to 1"
      ],
      "metadata": {
        "colab": {
          "base_uri": "https://localhost:8080/"
        },
        "id": "LgG-1lB26-ZD",
        "outputId": "aad590a3-c453-440d-9a82-979ce3ea242a"
      },
      "execution_count": null,
      "outputs": [
        {
          "output_type": "stream",
          "name": "stdout",
          "text": [
            "Correlation between X and X = 1.0\n",
            "Correlation between X and Y =0.77\n",
            "Correlation between Y and X =0.77\n",
            "Correlation between Y and Y = 1.0\n"
          ]
        }
      ]
    },
    {
      "cell_type": "markdown",
      "source": [
        "### Gradient Descent Algorithm:\n",
        "\n",
        "*   Initialize m, c with zeros\n",
        "*   Set values for learning rate, and number of epochs to train on\n",
        "*   For each iteration in number of epochs:\n",
        "  *   Calculate Ypred = mX + C (equation of linear regression)\n",
        "  *   Calculate Gradients for your variables m, c\n",
        "  *   update m and c values using the gradients"
      ],
      "metadata": {
        "id": "gV05Z7gS5F2I"
      }
    },
    {
      "cell_type": "code",
      "source": [
        "# initialize m and c with zeros\n",
        "m, c = 0, 0\n",
        "# set learning rate to 0.0001, and epochs to 1000\n",
        "lr = 0.0001\n",
        "epochs = 1000\n",
        "n = float(len(X))"
      ],
      "metadata": {
        "id": "StL7ZFc-n1Nw"
      },
      "execution_count": null,
      "outputs": []
    },
    {
      "cell_type": "code",
      "source": [
        "for i in range(epochs):\n",
        "  Ypred = m*X + c\n",
        "  Dm = (-2/n) * np.sum(X * (Y - Ypred))\n",
        "  Dc = (-2/n) * np.sum(Y - Ypred)\n",
        "  m = m - lr * Dm\n",
        "  c = c - lr * Dc"
      ],
      "metadata": {
        "id": "RJXAddXEoHy5"
      },
      "execution_count": null,
      "outputs": []
    },
    {
      "cell_type": "code",
      "source": [
        "print('Final m =', m)\n",
        "print('Final c =', c)"
      ],
      "metadata": {
        "colab": {
          "base_uri": "https://localhost:8080/"
        },
        "id": "ImEJ4GdZoRuV",
        "outputId": "34393e60-7010-4772-af0f-3081af83aa18"
      },
      "execution_count": null,
      "outputs": [
        {
          "output_type": "stream",
          "name": "stdout",
          "text": [
            "Final m = 1.4777440851894448\n",
            "Final c = 0.08893651993741351\n"
          ]
        }
      ]
    },
    {
      "cell_type": "code",
      "source": [
        "# plot linear regression line and data points\n",
        "plt.scatter(X, Y)\n",
        "plt.plot([min(X), max(X)], [min(Ypred), max(Ypred)], color='red')\n",
        "# plt.plot(X, Ypred, color='red)\n",
        "plt.show()"
      ],
      "metadata": {
        "colab": {
          "base_uri": "https://localhost:8080/",
          "height": 265
        },
        "id": "dB3kpEH8oVaJ",
        "outputId": "75748edd-b11f-43ea-84b3-cd8a6aea0006"
      },
      "execution_count": null,
      "outputs": [
        {
          "output_type": "display_data",
          "data": {
            "image/png": "[encoded data removed]",
            "text/plain": [
              "<Figure size 432x288 with 1 Axes>"
            ]
          },
          "metadata": {
            "needs_background": "light"
          }
        }
      ]
    },
    {
      "cell_type": "markdown",
      "source": [
        "## Part Two: Using Sklearn"
      ],
      "metadata": {
        "id": "q8ebztdP5-W3"
      }
    },
    {
      "cell_type": "markdown",
      "source": [
        "[Sklearn](https://scikit-learn.org/) is a library that has a lot of machine learning models ready-made.\n",
        "It eases using of ML models after you got hand of them manually.\n",
        "Look it up and check the models in it on its website documentation.\n",
        "\n",
        "In this part, we will only use [LinearRegression](https://scikit-learn.org/stable/modules/generated/sklearn.linear_model.LinearRegression.html#sklearn.linear_model.LinearRegression.fit) model from Sklearn."
      ],
      "metadata": {
        "id": "EvT5zLcC6YyB"
      }
    },
    {
      "cell_type": "code",
      "source": [
        "from sklearn.linear_model import LinearRegression"
      ],
      "metadata": {
        "id": "WbkkiZJxoits"
      },
      "execution_count": null,
      "outputs": []
    },
    {
      "cell_type": "code",
      "source": [
        "# X is a pandas.Series object, which is returned from iloc function\n",
        "# But LinearRegression model in Sklearn needs it to be a numpy array\n",
        "X = X.to_numpy()\n",
        "print(X.shape)\n",
        "# And it needs it to be in shape (N, 1), so we will use reshape function\n",
        "X = X.reshape(-1, 1)\n",
        "print(X.shape)"
      ],
      "metadata": {
        "colab": {
          "base_uri": "https://localhost:8080/"
        },
        "id": "-NXoXLuyohua",
        "outputId": "ad434eb4-5c24-460c-fae7-30d54c0899f5"
      },
      "execution_count": null,
      "outputs": [
        {
          "output_type": "stream",
          "name": "stdout",
          "text": [
            "(100,)\n",
            "(100, 1)\n"
          ]
        }
      ]
    },
    {
      "cell_type": "code",
      "source": [
        "# create model object\n",
        "lin_reg_model = LinearRegression()\n",
        "# fit the model on data .. which means, calculate teh coefficients of the linear model i.e. m and c\n",
        "lin_reg_model.fit(X, Y)\n",
        "print('m = ', lin_reg_model.coef_[0])\n",
        "print('c = ', lin_reg_model.intercept_)"
      ],
      "metadata": {
        "colab": {
          "base_uri": "https://localhost:8080/"
        },
        "id": "uBlronpG7LGP",
        "outputId": "753fe017-5f56-492b-b3da-9fabbfde23aa"
      },
      "execution_count": null,
      "outputs": [
        {
          "output_type": "stream",
          "name": "stdout",
          "text": [
            "m =  1.3224310227553597\n",
            "c =  7.991020982270399\n"
          ]
        }
      ]
    },
    {
      "cell_type": "markdown",
      "source": [
        "Notice that the values of m and c are different from the ones we calculated.\n",
        "That is because LinearRegression function in Sklearn uses a different cost function from the one we used above.\n",
        "\n",
        "We used *Mean Square Error*.\n",
        "Sklearn uses *Residual Sum of Square*. Look up the equation.\n",
        "\n",
        "Both are valid."
      ],
      "metadata": {
        "id": "L1RkpC6m7f1Z"
      }
    },
    {
      "cell_type": "code",
      "source": [
        "# Give the model the X values to calculated Ypredicted which is calculated from the straight line\n",
        "Ypred = lin_reg_model.predict(X)"
      ],
      "metadata": {
        "id": "TtvPHXIupbmG"
      },
      "execution_count": null,
      "outputs": []
    },
    {
      "cell_type": "code",
      "source": [
        "# graphing your result\n",
        "plt.scatter(X, Y)\n",
        "plt.plot(X, Ypred, color='red')\n",
        "plt.show()"
      ],
      "metadata": {
        "id": "FZ8B9CJv6a-l",
        "colab": {
          "base_uri": "https://localhost:8080/",
          "height": 265
        },
        "outputId": "cdf02773-b20e-47f5-e2d6-d52ee1cfc5c1"
      },
      "execution_count": null,
      "outputs": [
        {
          "output_type": "display_data",
          "data": {
            "image/png": "[encoded data removed]",
            "text/plain": [
              "<Figure size 432x288 with 1 Axes>"
            ]
          },
          "metadata": {
            "needs_background": "light"
          }
        }
      ]
    }
  ]
}